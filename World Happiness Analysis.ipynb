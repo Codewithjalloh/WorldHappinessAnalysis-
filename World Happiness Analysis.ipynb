{
 "cells": [
  {
   "cell_type": "markdown",
   "metadata": {},
   "source": [
    "# World Happiness Analysis "
   ]
  },
  {
   "cell_type": "code",
   "execution_count": 1,
   "metadata": {},
   "outputs": [],
   "source": [
    "import pandas as pd\n",
    "import seaborn as sns\n",
    "import matplotlib.pyplot as plt\n",
    "\n",
    "# Load the data from CSV file\n",
    "df = pd.read_csv('world_happiness.csv')"
   ]
  },
  {
   "cell_type": "code",
   "execution_count": 2,
   "metadata": {},
   "outputs": [
    {
     "data": {
      "text/html": [
       "<div>\n",
       "<style scoped>\n",
       "    .dataframe tbody tr th:only-of-type {\n",
       "        vertical-align: middle;\n",
       "    }\n",
       "\n",
       "    .dataframe tbody tr th {\n",
       "        vertical-align: top;\n",
       "    }\n",
       "\n",
       "    .dataframe thead th {\n",
       "        text-align: right;\n",
       "    }\n",
       "</style>\n",
       "<table border=\"1\" class=\"dataframe\">\n",
       "  <thead>\n",
       "    <tr style=\"text-align: right;\">\n",
       "      <th></th>\n",
       "      <th>Unnamed: 0</th>\n",
       "      <th>country</th>\n",
       "      <th>social_support</th>\n",
       "      <th>freedom</th>\n",
       "      <th>corruption</th>\n",
       "      <th>generosity</th>\n",
       "      <th>gdp_per_cap</th>\n",
       "      <th>life_exp</th>\n",
       "      <th>happiness_score</th>\n",
       "    </tr>\n",
       "  </thead>\n",
       "  <tbody>\n",
       "    <tr>\n",
       "      <td>0</td>\n",
       "      <td>1</td>\n",
       "      <td>Finland</td>\n",
       "      <td>2.0</td>\n",
       "      <td>5.0</td>\n",
       "      <td>4.0</td>\n",
       "      <td>47.0</td>\n",
       "      <td>42400</td>\n",
       "      <td>81.8</td>\n",
       "      <td>155</td>\n",
       "    </tr>\n",
       "    <tr>\n",
       "      <td>1</td>\n",
       "      <td>2</td>\n",
       "      <td>Denmark</td>\n",
       "      <td>4.0</td>\n",
       "      <td>6.0</td>\n",
       "      <td>3.0</td>\n",
       "      <td>22.0</td>\n",
       "      <td>48300</td>\n",
       "      <td>81.0</td>\n",
       "      <td>154</td>\n",
       "    </tr>\n",
       "    <tr>\n",
       "      <td>2</td>\n",
       "      <td>3</td>\n",
       "      <td>Norway</td>\n",
       "      <td>3.0</td>\n",
       "      <td>3.0</td>\n",
       "      <td>8.0</td>\n",
       "      <td>11.0</td>\n",
       "      <td>66300</td>\n",
       "      <td>82.6</td>\n",
       "      <td>153</td>\n",
       "    </tr>\n",
       "    <tr>\n",
       "      <td>3</td>\n",
       "      <td>4</td>\n",
       "      <td>Iceland</td>\n",
       "      <td>1.0</td>\n",
       "      <td>7.0</td>\n",
       "      <td>45.0</td>\n",
       "      <td>3.0</td>\n",
       "      <td>47900</td>\n",
       "      <td>83.0</td>\n",
       "      <td>152</td>\n",
       "    </tr>\n",
       "    <tr>\n",
       "      <td>4</td>\n",
       "      <td>5</td>\n",
       "      <td>Netherlands</td>\n",
       "      <td>15.0</td>\n",
       "      <td>19.0</td>\n",
       "      <td>12.0</td>\n",
       "      <td>7.0</td>\n",
       "      <td>50500</td>\n",
       "      <td>81.8</td>\n",
       "      <td>151</td>\n",
       "    </tr>\n",
       "  </tbody>\n",
       "</table>\n",
       "</div>"
      ],
      "text/plain": [
       "   Unnamed: 0      country  social_support  freedom  corruption  generosity  \\\n",
       "0           1      Finland             2.0      5.0         4.0        47.0   \n",
       "1           2      Denmark             4.0      6.0         3.0        22.0   \n",
       "2           3       Norway             3.0      3.0         8.0        11.0   \n",
       "3           4      Iceland             1.0      7.0        45.0         3.0   \n",
       "4           5  Netherlands            15.0     19.0        12.0         7.0   \n",
       "\n",
       "   gdp_per_cap  life_exp  happiness_score  \n",
       "0        42400      81.8              155  \n",
       "1        48300      81.0              154  \n",
       "2        66300      82.6              153  \n",
       "3        47900      83.0              152  \n",
       "4        50500      81.8              151  "
      ]
     },
     "execution_count": 2,
     "metadata": {},
     "output_type": "execute_result"
    }
   ],
   "source": [
    "df.head()"
   ]
  },
  {
   "cell_type": "code",
   "execution_count": 3,
   "metadata": {},
   "outputs": [
    {
     "data": {
      "text/plain": [
       "Index(['Unnamed: 0', 'country', 'social_support', 'freedom', 'corruption',\n",
       "       'generosity', 'gdp_per_cap', 'life_exp', 'happiness_score'],\n",
       "      dtype='object')"
      ]
     },
     "execution_count": 3,
     "metadata": {},
     "output_type": "execute_result"
    }
   ],
   "source": [
    "df.columns"
   ]
  },
  {
   "cell_type": "code",
   "execution_count": 4,
   "metadata": {},
   "outputs": [
    {
     "data": {
      "text/plain": [
       "(143, 9)"
      ]
     },
     "execution_count": 4,
     "metadata": {},
     "output_type": "execute_result"
    }
   ],
   "source": [
    "df.shape"
   ]
  },
  {
   "cell_type": "code",
   "execution_count": 5,
   "metadata": {},
   "outputs": [
    {
     "data": {
      "text/html": [
       "<div>\n",
       "<style scoped>\n",
       "    .dataframe tbody tr th:only-of-type {\n",
       "        vertical-align: middle;\n",
       "    }\n",
       "\n",
       "    .dataframe tbody tr th {\n",
       "        vertical-align: top;\n",
       "    }\n",
       "\n",
       "    .dataframe thead th {\n",
       "        text-align: right;\n",
       "    }\n",
       "</style>\n",
       "<table border=\"1\" class=\"dataframe\">\n",
       "  <thead>\n",
       "    <tr style=\"text-align: right;\">\n",
       "      <th></th>\n",
       "      <th>Unnamed: 0</th>\n",
       "      <th>country</th>\n",
       "      <th>social_support</th>\n",
       "      <th>freedom</th>\n",
       "      <th>corruption</th>\n",
       "      <th>generosity</th>\n",
       "      <th>gdp_per_cap</th>\n",
       "      <th>life_exp</th>\n",
       "      <th>happiness_score</th>\n",
       "    </tr>\n",
       "  </thead>\n",
       "  <tbody>\n",
       "    <tr>\n",
       "      <td>138</td>\n",
       "      <td>139</td>\n",
       "      <td>Rwanda</td>\n",
       "      <td>144.0</td>\n",
       "      <td>21.0</td>\n",
       "      <td>2.0</td>\n",
       "      <td>90.0</td>\n",
       "      <td>2110</td>\n",
       "      <td>69.1</td>\n",
       "      <td>4</td>\n",
       "    </tr>\n",
       "    <tr>\n",
       "      <td>139</td>\n",
       "      <td>140</td>\n",
       "      <td>Tanzania</td>\n",
       "      <td>131.0</td>\n",
       "      <td>78.0</td>\n",
       "      <td>34.0</td>\n",
       "      <td>49.0</td>\n",
       "      <td>2980</td>\n",
       "      <td>67.7</td>\n",
       "      <td>3</td>\n",
       "    </tr>\n",
       "    <tr>\n",
       "      <td>140</td>\n",
       "      <td>141</td>\n",
       "      <td>Afghanistan</td>\n",
       "      <td>151.0</td>\n",
       "      <td>155.0</td>\n",
       "      <td>136.0</td>\n",
       "      <td>137.0</td>\n",
       "      <td>1760</td>\n",
       "      <td>64.1</td>\n",
       "      <td>2</td>\n",
       "    </tr>\n",
       "    <tr>\n",
       "      <td>141</td>\n",
       "      <td>142</td>\n",
       "      <td>Central African Republic</td>\n",
       "      <td>155.0</td>\n",
       "      <td>133.0</td>\n",
       "      <td>122.0</td>\n",
       "      <td>113.0</td>\n",
       "      <td>794</td>\n",
       "      <td>52.9</td>\n",
       "      <td>1</td>\n",
       "    </tr>\n",
       "    <tr>\n",
       "      <td>142</td>\n",
       "      <td>143</td>\n",
       "      <td>South Sudan</td>\n",
       "      <td>148.0</td>\n",
       "      <td>154.0</td>\n",
       "      <td>61.0</td>\n",
       "      <td>85.0</td>\n",
       "      <td>1860</td>\n",
       "      <td>59.7</td>\n",
       "      <td>0</td>\n",
       "    </tr>\n",
       "  </tbody>\n",
       "</table>\n",
       "</div>"
      ],
      "text/plain": [
       "     Unnamed: 0                   country  social_support  freedom  \\\n",
       "138         139                    Rwanda           144.0     21.0   \n",
       "139         140                  Tanzania           131.0     78.0   \n",
       "140         141               Afghanistan           151.0    155.0   \n",
       "141         142  Central African Republic           155.0    133.0   \n",
       "142         143               South Sudan           148.0    154.0   \n",
       "\n",
       "     corruption  generosity  gdp_per_cap  life_exp  happiness_score  \n",
       "138         2.0        90.0         2110      69.1                4  \n",
       "139        34.0        49.0         2980      67.7                3  \n",
       "140       136.0       137.0         1760      64.1                2  \n",
       "141       122.0       113.0          794      52.9                1  \n",
       "142        61.0        85.0         1860      59.7                0  "
      ]
     },
     "execution_count": 5,
     "metadata": {},
     "output_type": "execute_result"
    }
   ],
   "source": [
    "df.tail()"
   ]
  },
  {
   "cell_type": "code",
   "execution_count": 6,
   "metadata": {},
   "outputs": [
    {
     "data": {
      "text/html": [
       "<div>\n",
       "<style scoped>\n",
       "    .dataframe tbody tr th:only-of-type {\n",
       "        vertical-align: middle;\n",
       "    }\n",
       "\n",
       "    .dataframe tbody tr th {\n",
       "        vertical-align: top;\n",
       "    }\n",
       "\n",
       "    .dataframe thead th {\n",
       "        text-align: right;\n",
       "    }\n",
       "</style>\n",
       "<table border=\"1\" class=\"dataframe\">\n",
       "  <thead>\n",
       "    <tr style=\"text-align: right;\">\n",
       "      <th></th>\n",
       "      <th>Unnamed: 0</th>\n",
       "      <th>social_support</th>\n",
       "      <th>freedom</th>\n",
       "      <th>corruption</th>\n",
       "      <th>generosity</th>\n",
       "      <th>gdp_per_cap</th>\n",
       "      <th>life_exp</th>\n",
       "      <th>happiness_score</th>\n",
       "    </tr>\n",
       "  </thead>\n",
       "  <tbody>\n",
       "    <tr>\n",
       "      <td>count</td>\n",
       "      <td>143.00000</td>\n",
       "      <td>142.000000</td>\n",
       "      <td>142.000000</td>\n",
       "      <td>135.000000</td>\n",
       "      <td>142.00000</td>\n",
       "      <td>143.000000</td>\n",
       "      <td>143.000000</td>\n",
       "      <td>143.000000</td>\n",
       "    </tr>\n",
       "    <tr>\n",
       "      <td>mean</td>\n",
       "      <td>72.00000</td>\n",
       "      <td>77.352113</td>\n",
       "      <td>77.000000</td>\n",
       "      <td>73.244444</td>\n",
       "      <td>78.78169</td>\n",
       "      <td>20124.286713</td>\n",
       "      <td>73.796503</td>\n",
       "      <td>77.643357</td>\n",
       "    </tr>\n",
       "    <tr>\n",
       "      <td>std</td>\n",
       "      <td>41.42463</td>\n",
       "      <td>45.743379</td>\n",
       "      <td>45.569058</td>\n",
       "      <td>42.237507</td>\n",
       "      <td>44.87921</td>\n",
       "      <td>20570.547556</td>\n",
       "      <td>7.092194</td>\n",
       "      <td>46.377418</td>\n",
       "    </tr>\n",
       "    <tr>\n",
       "      <td>min</td>\n",
       "      <td>1.00000</td>\n",
       "      <td>1.000000</td>\n",
       "      <td>1.000000</td>\n",
       "      <td>1.000000</td>\n",
       "      <td>1.00000</td>\n",
       "      <td>631.000000</td>\n",
       "      <td>52.900000</td>\n",
       "      <td>0.000000</td>\n",
       "    </tr>\n",
       "    <tr>\n",
       "      <td>25%</td>\n",
       "      <td>36.50000</td>\n",
       "      <td>37.250000</td>\n",
       "      <td>37.500000</td>\n",
       "      <td>37.500000</td>\n",
       "      <td>41.25000</td>\n",
       "      <td>4110.000000</td>\n",
       "      <td>69.100000</td>\n",
       "      <td>36.500000</td>\n",
       "    </tr>\n",
       "    <tr>\n",
       "      <td>50%</td>\n",
       "      <td>72.00000</td>\n",
       "      <td>76.000000</td>\n",
       "      <td>75.500000</td>\n",
       "      <td>74.000000</td>\n",
       "      <td>80.50000</td>\n",
       "      <td>13000.000000</td>\n",
       "      <td>74.900000</td>\n",
       "      <td>79.000000</td>\n",
       "    </tr>\n",
       "    <tr>\n",
       "      <td>75%</td>\n",
       "      <td>107.50000</td>\n",
       "      <td>116.750000</td>\n",
       "      <td>116.750000</td>\n",
       "      <td>109.500000</td>\n",
       "      <td>116.75000</td>\n",
       "      <td>29750.000000</td>\n",
       "      <td>79.650000</td>\n",
       "      <td>118.000000</td>\n",
       "    </tr>\n",
       "    <tr>\n",
       "      <td>max</td>\n",
       "      <td>143.00000</td>\n",
       "      <td>155.000000</td>\n",
       "      <td>155.000000</td>\n",
       "      <td>148.000000</td>\n",
       "      <td>155.00000</td>\n",
       "      <td>113000.000000</td>\n",
       "      <td>85.100000</td>\n",
       "      <td>155.000000</td>\n",
       "    </tr>\n",
       "  </tbody>\n",
       "</table>\n",
       "</div>"
      ],
      "text/plain": [
       "       Unnamed: 0  social_support     freedom  corruption  generosity  \\\n",
       "count   143.00000      142.000000  142.000000  135.000000   142.00000   \n",
       "mean     72.00000       77.352113   77.000000   73.244444    78.78169   \n",
       "std      41.42463       45.743379   45.569058   42.237507    44.87921   \n",
       "min       1.00000        1.000000    1.000000    1.000000     1.00000   \n",
       "25%      36.50000       37.250000   37.500000   37.500000    41.25000   \n",
       "50%      72.00000       76.000000   75.500000   74.000000    80.50000   \n",
       "75%     107.50000      116.750000  116.750000  109.500000   116.75000   \n",
       "max     143.00000      155.000000  155.000000  148.000000   155.00000   \n",
       "\n",
       "         gdp_per_cap    life_exp  happiness_score  \n",
       "count     143.000000  143.000000       143.000000  \n",
       "mean    20124.286713   73.796503        77.643357  \n",
       "std     20570.547556    7.092194        46.377418  \n",
       "min       631.000000   52.900000         0.000000  \n",
       "25%      4110.000000   69.100000        36.500000  \n",
       "50%     13000.000000   74.900000        79.000000  \n",
       "75%     29750.000000   79.650000       118.000000  \n",
       "max    113000.000000   85.100000       155.000000  "
      ]
     },
     "execution_count": 6,
     "metadata": {},
     "output_type": "execute_result"
    }
   ],
   "source": [
    "df.describe()"
   ]
  },
  {
   "cell_type": "code",
   "execution_count": 7,
   "metadata": {},
   "outputs": [
    {
     "name": "stdout",
     "output_type": "stream",
     "text": [
      "Country with the highest happiness score: Finland\n",
      "Country with the lowest happiness score: South Sudan\n"
     ]
    }
   ],
   "source": [
    "# 1. Which country has the highest and lowest happiness score?\n",
    "max_happiness_country = df.loc[df['happiness_score'].idxmax(), 'country']\n",
    "min_happiness_country = df.loc[df['happiness_score'].idxmin(), 'country']\n",
    "\n",
    "print(\"Country with the highest happiness score:\", max_happiness_country)\n",
    "print(\"Country with the lowest happiness score:\", min_happiness_country)\n"
   ]
  },
  {
   "cell_type": "code",
   "execution_count": 8,
   "metadata": {},
   "outputs": [
    {
     "name": "stdout",
     "output_type": "stream",
     "text": [
      "Correlation between social support and happiness score: -0.8247024265741844\n"
     ]
    }
   ],
   "source": [
    "# 2. Is there any relationship between social support and happiness score?\n",
    "correlation_social_support = df['social_support'].corr(df['happiness_score'])\n",
    "print(\"Correlation between social support and happiness score:\", correlation_social_support)\n"
   ]
  },
  {
   "cell_type": "code",
   "execution_count": 9,
   "metadata": {},
   "outputs": [
    {
     "name": "stdout",
     "output_type": "stream",
     "text": [
      "Average GDP per capita: 20124.286713286714\n",
      "Country with the highest GDP per capita: Qatar\n",
      "Country with the lowest GDP per capita: Somalia\n"
     ]
    }
   ],
   "source": [
    "# 3. How does the GDP per capita vary across different countries?\n",
    "average_gdp_per_capita = df['gdp_per_cap'].mean()\n",
    "print(\"Average GDP per capita:\", average_gdp_per_capita)\n",
    "\n",
    "country_highest_gdp = df.loc[df['gdp_per_cap'].idxmax(), 'country']\n",
    "country_lowest_gdp = df.loc[df['gdp_per_cap'].idxmin(), 'country']\n",
    "\n",
    "print(\"Country with the highest GDP per capita:\", country_highest_gdp)\n",
    "print(\"Country with the lowest GDP per capita:\", country_lowest_gdp)"
   ]
  },
  {
   "cell_type": "code",
   "execution_count": 10,
   "metadata": {},
   "outputs": [
    {
     "name": "stdout",
     "output_type": "stream",
     "text": [
      "Factor most correlated with happiness score: life_exp\n"
     ]
    }
   ],
   "source": [
    "# 4. Which factors correlate the most with happiness score?\n",
    "correlation_matrix = df.corr()\n",
    "happiness_correlation = correlation_matrix['happiness_score'].drop('happiness_score')\n",
    "most_correlated_factor = happiness_correlation.idxmax()\n",
    "\n",
    "print(\"Factor most correlated with happiness score:\", most_correlated_factor)\n"
   ]
  },
  {
   "cell_type": "code",
   "execution_count": 11,
   "metadata": {},
   "outputs": [
    {
     "data": {
      "image/png": "[encoded data removed]",
      "text/plain": [
       "<Figure size 720x432 with 1 Axes>"
      ]
     },
     "metadata": {
      "needs_background": "light"
     },
     "output_type": "display_data"
    }
   ],
   "source": [
    "# 5. Are there any countries with high GDP per capita but relatively low happiness scores?\n",
    "high_gdp_low_happiness = df[(df['gdp_per_cap'] > average_gdp_per_capita) & (df['happiness_score'] < df['happiness_score'].mean())]\n",
    "\n",
    "plt.figure(figsize=(10, 6))\n",
    "sns.barplot(data=high_gdp_low_happiness, x='country', y='happiness_score')\n",
    "plt.title('Countries with High GDP per Capita but Low Happiness Scores')\n",
    "plt.xlabel('Country')\n",
    "plt.ylabel('Happiness Score')\n",
    "plt.xticks(rotation=90)\n",
    "plt.show()"
   ]
  },
  {
   "cell_type": "code",
   "execution_count": 12,
   "metadata": {},
   "outputs": [
    {
     "name": "stdout",
     "output_type": "stream",
     "text": [
      "Correlation between life expectancy and happiness score: 0.7802249053272062\n"
     ]
    },
    {
     "data": {
      "image/png": "[encoded data removed]",
      "text/plain": [
       "<Figure size 576x432 with 1 Axes>"
      ]
     },
     "metadata": {
      "needs_background": "light"
     },
     "output_type": "display_data"
    }
   ],
   "source": [
    "# 6. Is there a correlation between life expectancy and happiness score?\n",
    "correlation_life_expectancy = df['life_exp'].corr(df['happiness_score'])\n",
    "print(\"Correlation between life expectancy and happiness score:\", correlation_life_expectancy)\n",
    "\n",
    "plt.figure(figsize=(8, 6))\n",
    "sns.scatterplot(data=df, x='life_exp', y='happiness_score')\n",
    "plt.title('Correlation between Life Expectancy and Happiness Score')\n",
    "plt.xlabel('Life Expectancy')\n",
    "plt.ylabel('Happiness Score')\n",
    "plt.show()"
   ]
  },
  {
   "cell_type": "code",
   "execution_count": 13,
   "metadata": {},
   "outputs": [
    {
     "name": "stdout",
     "output_type": "stream",
     "text": [
      "Average corruption level: 73.24444444444444\n",
      "Country with the least corruption: Singapore\n",
      "Country with the most corruption: Moldova\n"
     ]
    }
   ],
   "source": [
    "# 7. How does corruption level vary across different countries?\n",
    "average_corruption = df['corruption'].mean()\n",
    "print(\"Average corruption level:\", average_corruption)\n",
    "\n",
    "country_least_corrupt = df.loc[df['corruption'].idxmin(), 'country']\n",
    "country_most_corrupt = df.loc[df['corruption'].idxmax(), 'country']\n",
    "\n",
    "print(\"Country with the least corruption:\", country_least_corrupt)\n",
    "print(\"Country with the most corruption:\", country_most_corrupt)"
   ]
  },
  {
   "cell_type": "code",
   "execution_count": 14,
   "metadata": {},
   "outputs": [
    {
     "name": "stdout",
     "output_type": "stream",
     "text": [
      "Country with the highest generosity: Yemen\n",
      "Country with the lowest generosity: Myanmar\n"
     ]
    }
   ],
   "source": [
    "# 8. Which country has the highest and lowest generosity?\n",
    "country_most_generous = df.loc[df['generosity'].idxmax(), 'country']\n",
    "country_least_generous = df.loc[df['generosity'].idxmin(), 'country']\n",
    "print(\"Country with the highest generosity:\", country_most_generous)\n",
    "print(\"Country with the lowest generosity:\", country_least_generous)"
   ]
  },
  {
   "cell_type": "code",
   "execution_count": 15,
   "metadata": {},
   "outputs": [
    {
     "data": {
      "image/png": "[encoded data removed]",
      "text/plain": [
       "<Figure size 576x432 with 1 Axes>"
      ]
     },
     "metadata": {
      "needs_background": "light"
     },
     "output_type": "display_data"
    },
    {
     "data": {
      "image/png": "[encoded data removed]",
      "text/plain": [
       "<Figure size 720x432 with 1 Axes>"
      ]
     },
     "metadata": {
      "needs_background": "light"
     },
     "output_type": "display_data"
    }
   ],
   "source": [
    "# 9. Are there any noticeable patterns or trends in the data?\n",
    "# We can observe trends or patterns by analyzing the data, visualizations, and further exploration.\n",
    "\n",
    "# Additional Data Visualization\n",
    "# Scatter plot of GDP per capita and Happiness Score\n",
    "plt.figure(figsize=(8, 6))\n",
    "sns.scatterplot(data=df, x='gdp_per_cap', y='happiness_score')\n",
    "plt.title('Relationship between GDP per Capita and Happiness Score')\n",
    "plt.xlabel('GDP per Capita')\n",
    "plt.ylabel('Happiness Score')\n",
    "plt.show()\n",
    "\n",
    "# Bar plot of Corruption level\n",
    "plt.figure(figsize=(10, 6))\n",
    "sns.barplot(data=df, x='country', y='corruption')\n",
    "plt.title('Corruption Level in Different Countries')\n",
    "plt.xlabel('Country')\n",
    "plt.ylabel('Corruption Level')\n",
    "plt.xticks(rotation=90)\n",
    "plt.show()"
   ]
  },
  {
   "cell_type": "code",
   "execution_count": null,
   "metadata": {},
   "outputs": [],
   "source": []
  }
 ],
 "metadata": {
  "kernelspec": {
   "display_name": "Python 3",
   "language": "python",
   "name": "python3"
  },
  "language_info": {
   "codemirror_mode": {
    "name": "ipython",
    "version": 3
   },
   "file_extension": ".py",
   "mimetype": "text/x-python",
   "name": "python",
   "nbconvert_exporter": "python",
   "pygments_lexer": "ipython3",
   "version": "3.7.4"
  }
 },
 "nbformat": 4,
 "nbformat_minor": 2
}
